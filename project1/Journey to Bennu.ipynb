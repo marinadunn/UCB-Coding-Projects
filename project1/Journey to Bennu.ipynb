{
 "cells": [
  {
   "cell_type": "markdown",
   "metadata": {},
   "source": [
    "# Project 1"
   ]
  },
  {
   "cell_type": "markdown",
   "metadata": {},
   "source": [
    "Project 1\n",
    "Marina Dunn\n",
    "Created 07/08/2020\n",
    "W18 Intro to Python\n",
    "UCB\n",
    "\n",
    "\"Journey to Bennu,\" is a space game based on the real-life mission OSIRIS-REx, traveling to the asteroid Bennu, collecting a sample, and returning home. The game is based on user input, and includes a number of obstacles at each level the player must overcome, like space debris, for the spacecraft to officially return home. It is largely be trial-and-error-based, much like real astrophysics work."
   ]
  },
  {
   "cell_type": "code",
   "execution_count": 1,
   "metadata": {},
   "outputs": [
    {
     "name": "stdout",
     "output_type": "stream",
     "text": [
      "pygame 2.0.0.dev6 (SDL 2.0.10, python 3.8.1)\n",
      "Hello from the pygame community. https://www.pygame.org/contribute.html\n"
     ]
    },
    {
     "data": {
      "text/plain": [
       "(6, 0)"
      ]
     },
     "execution_count": 1,
     "metadata": {},
     "output_type": "execute_result"
    }
   ],
   "source": [
    "import pygame\n",
    "import random\n",
    "import time\n",
    "import os\n",
    "pygame.init()"
   ]
  },
  {
   "cell_type": "code",
   "execution_count": 2,
   "metadata": {},
   "outputs": [],
   "source": [
    "# load images\n",
    "SPACECRAFT = pygame.image.load(os.path.join(\"OSIRIS-REx_spacecraft_model.png\"))"
   ]
  },
  {
   "cell_type": "code",
   "execution_count": null,
   "metadata": {},
   "outputs": [],
   "source": [
    "class Background(object):\n",
    "    "
   ]
  },
  {
   "cell_type": "code",
   "execution_count": null,
   "metadata": {},
   "outputs": [],
   "source": [
    "class Player(object):\n",
    "    ### describes the main player icon, the spacecraft\n",
    "    def __init__(self, x, y, width, height):\n",
    "        self.x = x\n",
    "        self.y = y\n",
    "        self.width = width\n",
    "        self.height = height\n",
    "        self.velocity = 5\n",
    "        "
   ]
  },
  {
   "cell_type": "markdown",
   "metadata": {},
   "source": [
    "from ipyturtle import Turtle\n",
    "import random\n",
    "import time\n",
    "t = Turtle()"
   ]
  },
  {
   "cell_type": "markdown",
   "metadata": {},
   "source": [
    "class Background(object):\n",
    "    def __init__(self, screen):\n",
    "        ### Creates a screen for player to visualize experience.\n",
    "        t.title(\"Journey to Bennu\")\n",
    "        t.speed(0)\n",
    "        t.penup()\n",
    "        # choose window dimensions\n",
    "        screen.setup(600, 600)\n",
    "        #turtle.color(\"#00000\",\"#FFFFF\")\n",
    "        # uses an uploaded picture as the main background image\n",
    "        screen.bgpic(\"STScI-gallery-1427a-2000x960.png\")\n",
    "        #screen.addshape(\"OSIRIS-REx_spacecraft_model.png\")\n",
    "        t.shape(\"OSIRIS-REx_spacecraft_model.png\")"
   ]
  },
  {
   "cell_type": "markdown",
   "metadata": {},
   "source": [
    "class Player(object):\n",
    "    ### describes the main player icon, the spacecraft\n",
    "    def __init__(self, x = 0, y = 0):\n",
    "        self.penup()\n",
    "        self.setposition(position)\n",
    "        self.speed(0)\n",
    "        self.showturtle()\n",
    "        \n",
    "\n",
    "        \n",
    "    def change_speed(self, newSpeed):\n",
    "        self.speed(newSpeed)\n",
    "\n",
    "    def change_position(self, x, y):\n",
    "        self.setposition(x, y)\n",
    "        \n",
    "    # these defs control the movement of our \"turtle\"\n",
    "    def forward():\n",
    "        t.forward(move_speed)\n",
    "\n",
    "    def backward():\n",
    "        t.backward(move_speed)\n",
    "\n",
    "    def left():\n",
    "        t.left(turn_speed)\n",
    "\n",
    "    def right():\n",
    "        t.right(turn_speed)\n",
    "        \n",
    "        t.penup()\n",
    "        t.speed(0)\n",
    "        t.home()\n",
    "\n",
    "    # add keyboard events\n",
    "    screen.onkey(forward, \"Up\")\n",
    "    screen.onkey(backward, \"Down\")\n",
    "    screen.onkey(left, \"Left\")\n",
    "    screen.onkey(right, \"Right\")\n",
    "    screen.listen()"
   ]
  },
  {
   "cell_type": "markdown",
   "metadata": {},
   "source": [
    "background = Background()"
   ]
  },
  {
   "cell_type": "markdown",
   "metadata": {},
   "source": [
    "player = Player()"
   ]
  },
  {
   "cell_type": "markdown",
   "metadata": {},
   "source": [
    "Source credits:\n",
    "1) OSIRIS-REx image source: https://phys.org/newman/gfx/news/hires/2015/osirisrex.jpg\n",
    "2) Screen background: https://hubblesite.org/image/3886/category/58-hubble-ultra-deep-field"
   ]
  }
 ],
 "metadata": {
  "kernelspec": {
   "display_name": "Python 3",
   "language": "python",
   "name": "python3"
  },
  "language_info": {
   "codemirror_mode": {
    "name": "ipython",
    "version": 3
   },
   "file_extension": ".py",
   "mimetype": "text/x-python",
   "name": "python",
   "nbconvert_exporter": "python",
   "pygments_lexer": "ipython3",
   "version": "3.8.1"
  }
 },
 "nbformat": 4,
 "nbformat_minor": 2
}
